{
 "cells": [
  {
   "cell_type": "markdown",
   "metadata": {},
   "source": [
    "# **MÓDULO 14 - Exercício**\n",
    "# Pré Processamento dos Dados - A primeira etapa Pré Modelagem"
   ]
  },
  {
   "cell_type": "markdown",
   "metadata": {},
   "source": [
    "Para nossa atividade usaremos uma base de churn também, porém essa base não diz respeito a serviços bancários e sim serviços de internet, telefone e tv - Telecomunicação.\n",
    "\n",
    "Vamos realizar aqui as etapas de limpeza e tratamento de dados vistos durante a aula, porém aplicados a essa base nova."
   ]
  },
  {
   "cell_type": "code",
   "execution_count": 11,
   "metadata": {},
   "outputs": [],
   "source": [
    "import seaborn as sns\n",
    "import matplotlib.pyplot as plt\n",
    "import pandas as pd"
   ]
  },
  {
   "cell_type": "code",
   "execution_count": 12,
   "metadata": {},
   "outputs": [],
   "source": [
    "#Lembrem-se sempre de alterar a importação dos dados de acordo com o diretório de vocês.\n",
    "df = pd.read_csv(\"CHURN_TELECON_MOD08_TAREFA.csv\", delimiter=';')"
   ]
  },
  {
   "cell_type": "code",
   "execution_count": 13,
   "metadata": {},
   "outputs": [
    {
     "data": {
      "text/html": [
       "<div>\n",
       "<style scoped>\n",
       "    .dataframe tbody tr th:only-of-type {\n",
       "        vertical-align: middle;\n",
       "    }\n",
       "\n",
       "    .dataframe tbody tr th {\n",
       "        vertical-align: top;\n",
       "    }\n",
       "\n",
       "    .dataframe thead th {\n",
       "        text-align: right;\n",
       "    }\n",
       "</style>\n",
       "<table border=\"1\" class=\"dataframe\">\n",
       "  <thead>\n",
       "    <tr style=\"text-align: right;\">\n",
       "      <th></th>\n",
       "      <th>customerID</th>\n",
       "      <th>Genero</th>\n",
       "      <th>Idoso</th>\n",
       "      <th>Casado</th>\n",
       "      <th>Dependents</th>\n",
       "      <th>Tempo_como_Cliente</th>\n",
       "      <th>PhoneService</th>\n",
       "      <th>Servico_Internet</th>\n",
       "      <th>Servico_Seguranca</th>\n",
       "      <th>Suporte_Tecnico</th>\n",
       "      <th>StreamingTV</th>\n",
       "      <th>Tipo_Contrato</th>\n",
       "      <th>PaymentMethod</th>\n",
       "      <th>Pagamento_Mensal</th>\n",
       "      <th>Total_Pago</th>\n",
       "      <th>Churn</th>\n",
       "    </tr>\n",
       "  </thead>\n",
       "  <tbody>\n",
       "    <tr>\n",
       "      <th>0</th>\n",
       "      <td>7590-VHVEG</td>\n",
       "      <td>Female</td>\n",
       "      <td>0</td>\n",
       "      <td>Yes</td>\n",
       "      <td>No</td>\n",
       "      <td>1</td>\n",
       "      <td>No</td>\n",
       "      <td>DSL</td>\n",
       "      <td>No</td>\n",
       "      <td>No</td>\n",
       "      <td>No</td>\n",
       "      <td>Month-to-month</td>\n",
       "      <td>Electronic check</td>\n",
       "      <td>29.85</td>\n",
       "      <td>29.85</td>\n",
       "      <td>No</td>\n",
       "    </tr>\n",
       "    <tr>\n",
       "      <th>1</th>\n",
       "      <td>5575-GNVDE</td>\n",
       "      <td>Male</td>\n",
       "      <td>0</td>\n",
       "      <td>No</td>\n",
       "      <td>No</td>\n",
       "      <td>34</td>\n",
       "      <td>Yes</td>\n",
       "      <td>DSL</td>\n",
       "      <td>Yes</td>\n",
       "      <td>No</td>\n",
       "      <td>No</td>\n",
       "      <td>One year</td>\n",
       "      <td>Mailed check</td>\n",
       "      <td>56.95</td>\n",
       "      <td>1889.50</td>\n",
       "      <td>No</td>\n",
       "    </tr>\n",
       "    <tr>\n",
       "      <th>2</th>\n",
       "      <td>3668-QPYBK</td>\n",
       "      <td>Male</td>\n",
       "      <td>0</td>\n",
       "      <td>No</td>\n",
       "      <td>No</td>\n",
       "      <td>2</td>\n",
       "      <td>Yes</td>\n",
       "      <td>DSL</td>\n",
       "      <td>Yes</td>\n",
       "      <td>No</td>\n",
       "      <td>No</td>\n",
       "      <td>Month-to-month</td>\n",
       "      <td>Mailed check</td>\n",
       "      <td>53.85</td>\n",
       "      <td>108.15</td>\n",
       "      <td>Yes</td>\n",
       "    </tr>\n",
       "    <tr>\n",
       "      <th>3</th>\n",
       "      <td>7795-CFOCW</td>\n",
       "      <td>Male</td>\n",
       "      <td>0</td>\n",
       "      <td>No</td>\n",
       "      <td>No</td>\n",
       "      <td>45</td>\n",
       "      <td>No</td>\n",
       "      <td>DSL</td>\n",
       "      <td>Yes</td>\n",
       "      <td>Yes</td>\n",
       "      <td>No</td>\n",
       "      <td>One year</td>\n",
       "      <td>Bank transfer (automatic)</td>\n",
       "      <td>NaN</td>\n",
       "      <td>1840.75</td>\n",
       "      <td>No</td>\n",
       "    </tr>\n",
       "    <tr>\n",
       "      <th>4</th>\n",
       "      <td>9237-HQITU</td>\n",
       "      <td>NaN</td>\n",
       "      <td>0</td>\n",
       "      <td>No</td>\n",
       "      <td>No</td>\n",
       "      <td>2</td>\n",
       "      <td>Yes</td>\n",
       "      <td>Fiber optic</td>\n",
       "      <td>No</td>\n",
       "      <td>No</td>\n",
       "      <td>No</td>\n",
       "      <td>Month-to-month</td>\n",
       "      <td>Electronic check</td>\n",
       "      <td>NaN</td>\n",
       "      <td>151.65</td>\n",
       "      <td>Yes</td>\n",
       "    </tr>\n",
       "    <tr>\n",
       "      <th>5</th>\n",
       "      <td>9305-CDSKC</td>\n",
       "      <td>NaN</td>\n",
       "      <td>0</td>\n",
       "      <td>No</td>\n",
       "      <td>No</td>\n",
       "      <td>8</td>\n",
       "      <td>Yes</td>\n",
       "      <td>Fiber optic</td>\n",
       "      <td>No</td>\n",
       "      <td>No</td>\n",
       "      <td>Yes</td>\n",
       "      <td>Month-to-month</td>\n",
       "      <td>Electronic check</td>\n",
       "      <td>NaN</td>\n",
       "      <td>820.50</td>\n",
       "      <td>NaN</td>\n",
       "    </tr>\n",
       "    <tr>\n",
       "      <th>6</th>\n",
       "      <td>1452-KIOVK</td>\n",
       "      <td>NaN</td>\n",
       "      <td>0</td>\n",
       "      <td>No</td>\n",
       "      <td>Yes</td>\n",
       "      <td>22</td>\n",
       "      <td>Yes</td>\n",
       "      <td>Fiber optic</td>\n",
       "      <td>No</td>\n",
       "      <td>No</td>\n",
       "      <td>Yes</td>\n",
       "      <td>Month-to-month</td>\n",
       "      <td>Credit card (automatic)</td>\n",
       "      <td>NaN</td>\n",
       "      <td>1949.40</td>\n",
       "      <td>NaN</td>\n",
       "    </tr>\n",
       "    <tr>\n",
       "      <th>7</th>\n",
       "      <td>6713-OKOMC</td>\n",
       "      <td>NaN</td>\n",
       "      <td>0</td>\n",
       "      <td>No</td>\n",
       "      <td>No</td>\n",
       "      <td>10</td>\n",
       "      <td>No</td>\n",
       "      <td>DSL</td>\n",
       "      <td>Yes</td>\n",
       "      <td>No</td>\n",
       "      <td>No</td>\n",
       "      <td>Month-to-month</td>\n",
       "      <td>Mailed check</td>\n",
       "      <td>NaN</td>\n",
       "      <td>301.90</td>\n",
       "      <td>NaN</td>\n",
       "    </tr>\n",
       "    <tr>\n",
       "      <th>8</th>\n",
       "      <td>7892-POOKP</td>\n",
       "      <td>NaN</td>\n",
       "      <td>0</td>\n",
       "      <td>Yes</td>\n",
       "      <td>No</td>\n",
       "      <td>28</td>\n",
       "      <td>Yes</td>\n",
       "      <td>Fiber optic</td>\n",
       "      <td>No</td>\n",
       "      <td>Yes</td>\n",
       "      <td>Yes</td>\n",
       "      <td>Month-to-month</td>\n",
       "      <td>Electronic check</td>\n",
       "      <td>NaN</td>\n",
       "      <td>3046.05</td>\n",
       "      <td>NaN</td>\n",
       "    </tr>\n",
       "    <tr>\n",
       "      <th>9</th>\n",
       "      <td>6388-TABGU</td>\n",
       "      <td>NaN</td>\n",
       "      <td>0</td>\n",
       "      <td>No</td>\n",
       "      <td>Yes</td>\n",
       "      <td>62</td>\n",
       "      <td>Yes</td>\n",
       "      <td>dsl</td>\n",
       "      <td>Yes</td>\n",
       "      <td>No</td>\n",
       "      <td>No</td>\n",
       "      <td>One year</td>\n",
       "      <td>Bank transfer (automatic)</td>\n",
       "      <td>NaN</td>\n",
       "      <td>3487.95</td>\n",
       "      <td>NaN</td>\n",
       "    </tr>\n",
       "  </tbody>\n",
       "</table>\n",
       "</div>"
      ],
      "text/plain": [
       "   customerID  Genero  Idoso Casado Dependents  Tempo_como_Cliente  \\\n",
       "0  7590-VHVEG  Female      0    Yes         No                   1   \n",
       "1  5575-GNVDE    Male      0     No         No                  34   \n",
       "2  3668-QPYBK    Male      0     No         No                   2   \n",
       "3  7795-CFOCW    Male      0     No         No                  45   \n",
       "4  9237-HQITU     NaN      0     No         No                   2   \n",
       "5  9305-CDSKC     NaN      0     No         No                   8   \n",
       "6  1452-KIOVK     NaN      0     No        Yes                  22   \n",
       "7  6713-OKOMC     NaN      0     No         No                  10   \n",
       "8  7892-POOKP     NaN      0    Yes         No                  28   \n",
       "9  6388-TABGU     NaN      0     No        Yes                  62   \n",
       "\n",
       "  PhoneService Servico_Internet Servico_Seguranca Suporte_Tecnico StreamingTV  \\\n",
       "0           No              DSL                No              No          No   \n",
       "1          Yes              DSL               Yes              No          No   \n",
       "2          Yes              DSL               Yes              No          No   \n",
       "3           No              DSL               Yes             Yes          No   \n",
       "4          Yes      Fiber optic                No              No          No   \n",
       "5          Yes      Fiber optic                No              No         Yes   \n",
       "6          Yes      Fiber optic                No              No         Yes   \n",
       "7           No              DSL               Yes              No          No   \n",
       "8          Yes      Fiber optic                No             Yes         Yes   \n",
       "9          Yes              dsl               Yes              No          No   \n",
       "\n",
       "    Tipo_Contrato              PaymentMethod  Pagamento_Mensal  Total_Pago  \\\n",
       "0  Month-to-month           Electronic check             29.85       29.85   \n",
       "1        One year               Mailed check             56.95     1889.50   \n",
       "2  Month-to-month               Mailed check             53.85      108.15   \n",
       "3        One year  Bank transfer (automatic)               NaN     1840.75   \n",
       "4  Month-to-month           Electronic check               NaN      151.65   \n",
       "5  Month-to-month           Electronic check               NaN      820.50   \n",
       "6  Month-to-month    Credit card (automatic)               NaN     1949.40   \n",
       "7  Month-to-month               Mailed check               NaN      301.90   \n",
       "8  Month-to-month           Electronic check               NaN     3046.05   \n",
       "9        One year  Bank transfer (automatic)               NaN     3487.95   \n",
       "\n",
       "  Churn  \n",
       "0    No  \n",
       "1    No  \n",
       "2   Yes  \n",
       "3    No  \n",
       "4   Yes  \n",
       "5   NaN  \n",
       "6   NaN  \n",
       "7   NaN  \n",
       "8   NaN  \n",
       "9   NaN  "
      ]
     },
     "execution_count": 13,
     "metadata": {},
     "output_type": "execute_result"
    }
   ],
   "source": [
    "df.head(10)"
   ]
  },
  {
   "cell_type": "markdown",
   "metadata": {},
   "source": [
    "# 1 - Carregue a base, verifique se os tipos de dados estão de acordo com cada coluna e caso não estejam realize a transformação dos tipos de dados."
   ]
  },
  {
   "cell_type": "code",
   "execution_count": 14,
   "metadata": {},
   "outputs": [
    {
     "name": "stdout",
     "output_type": "stream",
     "text": [
      "customerID             object\n",
      "Genero                 object\n",
      "Idoso                   int64\n",
      "Casado                 object\n",
      "Dependents             object\n",
      "Tempo_como_Cliente      int64\n",
      "PhoneService           object\n",
      "Servico_Internet       object\n",
      "Servico_Seguranca      object\n",
      "Suporte_Tecnico        object\n",
      "StreamingTV            object\n",
      "Tipo_Contrato          object\n",
      "PaymentMethod          object\n",
      "Pagamento_Mensal      float64\n",
      "Total_Pago            float64\n",
      "Churn                  object\n",
      "dtype: object\n"
     ]
    }
   ],
   "source": [
    "print(df.dtypes)"
   ]
  },
  {
   "cell_type": "code",
   "execution_count": 15,
   "metadata": {},
   "outputs": [
    {
     "name": "stdout",
     "output_type": "stream",
     "text": [
      "<class 'pandas.core.frame.DataFrame'>\n",
      "RangeIndex: 2500 entries, 0 to 2499\n",
      "Data columns (total 16 columns):\n",
      " #   Column              Non-Null Count  Dtype  \n",
      "---  ------              --------------  -----  \n",
      " 0   customerID          2500 non-null   object \n",
      " 1   Genero              2488 non-null   object \n",
      " 2   Idoso               2500 non-null   int64  \n",
      " 3   Casado              2500 non-null   object \n",
      " 4   Dependents          2500 non-null   object \n",
      " 5   Tempo_como_Cliente  2500 non-null   int64  \n",
      " 6   PhoneService        1018 non-null   object \n",
      " 7   Servico_Internet    2500 non-null   object \n",
      " 8   Servico_Seguranca   2500 non-null   object \n",
      " 9   Suporte_Tecnico     2500 non-null   object \n",
      " 10  StreamingTV         2500 non-null   object \n",
      " 11  Tipo_Contrato       2500 non-null   object \n",
      " 12  PaymentMethod       2500 non-null   object \n",
      " 13  Pagamento_Mensal    2175 non-null   float64\n",
      " 14  Total_Pago          2500 non-null   float64\n",
      " 15  Churn               2495 non-null   object \n",
      "dtypes: float64(2), int64(2), object(12)\n",
      "memory usage: 312.6+ KB\n"
     ]
    }
   ],
   "source": [
    "df.info()"
   ]
  },
  {
   "cell_type": "markdown",
   "metadata": {},
   "source": [
    "# 2 - Esse exercício faremos por etapas:\n",
    "A) Verifique se temos colunas com dados faltantes e traga a % dos dados faltantes por coluna."
   ]
  },
  {
   "cell_type": "code",
   "execution_count": 16,
   "metadata": {},
   "outputs": [
    {
     "data": {
      "text/plain": [
       "customerID             0.00\n",
       "Genero                 0.48\n",
       "Idoso                  0.00\n",
       "Casado                 0.00\n",
       "Dependents             0.00\n",
       "Tempo_como_Cliente     0.00\n",
       "PhoneService          59.28\n",
       "Servico_Internet       0.00\n",
       "Servico_Seguranca      0.00\n",
       "Suporte_Tecnico        0.00\n",
       "StreamingTV            0.00\n",
       "Tipo_Contrato          0.00\n",
       "PaymentMethod          0.00\n",
       "Pagamento_Mensal      13.00\n",
       "Total_Pago             0.00\n",
       "Churn                  0.20\n",
       "dtype: float64"
      ]
     },
     "execution_count": 16,
     "metadata": {},
     "output_type": "execute_result"
    }
   ],
   "source": [
    "#seu código aqui\n",
    "(df.isnull().sum() / len(df)) * 100"
   ]
  },
  {
   "cell_type": "markdown",
   "metadata": {},
   "source": [
    "B) Exclua nessa etapa as linhas das colunas com dados faltantes que você analisar que esse método é o ideal. Justifique o motivo de estar excluindo essas linhas."
   ]
  },
  {
   "cell_type": "code",
   "execution_count": 17,
   "metadata": {},
   "outputs": [],
   "source": [
    "# Excluindo linhas com dados faltantes na coluna 'Genero'\n",
    "# Justificativa: A coluna Genero tem apenas 0.48% de dados faltantes (muito baixo)\n",
    "# É preferível excluir essas linhas do que imputar valores categóricos\n",
    "df = df.dropna(subset=['Genero'])"
   ]
  },
  {
   "cell_type": "code",
   "execution_count": 18,
   "metadata": {},
   "outputs": [
    {
     "data": {
      "text/plain": [
       "customerID             0.000000\n",
       "Genero                 0.000000\n",
       "Idoso                  0.000000\n",
       "Casado                 0.000000\n",
       "Dependents             0.000000\n",
       "Tempo_como_Cliente     0.000000\n",
       "PhoneService          59.565916\n",
       "Servico_Internet       0.000000\n",
       "Servico_Seguranca      0.000000\n",
       "Suporte_Tecnico        0.000000\n",
       "StreamingTV            0.000000\n",
       "Tipo_Contrato          0.000000\n",
       "PaymentMethod          0.000000\n",
       "Pagamento_Mensal      12.580386\n",
       "Total_Pago             0.000000\n",
       "Churn                  0.000000\n",
       "dtype: float64"
      ]
     },
     "execution_count": 18,
     "metadata": {},
     "output_type": "execute_result"
    }
   ],
   "source": [
    "df.isnull().sum() / len(df) * 100"
   ]
  },
  {
   "cell_type": "markdown",
   "metadata": {},
   "source": [
    "C) Nessa etapa substitua pela média, mediana ou moda as linhas das colunas com valores faltantes que você analisou e entendeu que esse era o melhor método. Não se esqueça de justificar sua escolha."
   ]
  },
  {
   "cell_type": "markdown",
   "metadata": {},
   "source": [
    "**Dica variáveis numéricas:** Não se esqueça de verificar a distribuição dos dados, média e mediana."
   ]
  },
  {
   "cell_type": "markdown",
   "metadata": {},
   "source": [
    "**Dica variáveis categóricas:** Caso precise substituir uma variável categórica utilize um gráfico de barras para verificar a que mais aparece e utilizar ela na substituição.\n",
    "Ou você pode optar por excluir a coluna, mas justifique sua escolha.\n",
    "\n",
    "Caso opte por substituir você pode utilizar a função fillna:\n",
    "df['SUACOLUNA'].fillna(\"VALOR QUE SUBSTITUIRA O NULO\", inplace=True)\n",
    "Ela funcionará como a replace."
   ]
  },
  {
   "cell_type": "code",
   "execution_count": 19,
   "metadata": {},
   "outputs": [
    {
     "name": "stdout",
     "output_type": "stream",
     "text": [
      "Resumo estatístico — PhoneService\n",
      "count     1006\n",
      "unique       2\n",
      "top        Yes\n",
      "freq       920\n",
      "Name: PhoneService, dtype: object\n"
     ]
    },
    {
     "data": {
      "image/png": "[encoded data removed]",
      "text/plain": [
       "<Figure size 600x400 with 1 Axes>"
      ]
     },
     "metadata": {},
     "output_type": "display_data"
    }
   ],
   "source": [
    "# Tratamento da coluna PhoneService (categórica)\n",
    "print(\"Resumo estatístico — PhoneService\")\n",
    "print(df['PhoneService'].describe())\n",
    "\n",
    "plt.figure(figsize=(6, 4))\n",
    "df['PhoneService'].value_counts().plot(kind='bar')\n",
    "plt.title('Distribuição: PhoneService')\n",
    "plt.xlabel('PhoneService')\n",
    "plt.ylabel('Frequência')\n",
    "plt.show()\n",
    "\n",
    "# Substituindo pela moda (valor mais frequente)\n",
    "# Justificativa: \"Yes\" representa mais de 96% dos dados válidos\n",
    "df['PhoneService'] = df['PhoneService'].fillna(\"Yes\")"
   ]
  },
  {
   "cell_type": "code",
   "execution_count": 20,
   "metadata": {},
   "outputs": [
    {
     "data": {
      "image/png": "[encoded data removed]",
      "text/plain": [
       "<Figure size 600x400 with 1 Axes>"
      ]
     },
     "metadata": {},
     "output_type": "display_data"
    },
    {
     "name": "stdout",
     "output_type": "stream",
     "text": [
      "Resumo estatístico — Pagamento_Mensal:\n",
      "count    2175.000000\n",
      "mean       65.607563\n",
      "std        29.931520\n",
      "min        18.400000\n",
      "25%        39.500000\n",
      "50%        71.450000\n",
      "75%        90.250000\n",
      "max       118.650000\n",
      "Name: Pagamento_Mensal, dtype: float64\n"
     ]
    }
   ],
   "source": [
    "# Para Pagamento_Mensal\n",
    "plt.figure(figsize=(6, 4))\n",
    "df['Pagamento_Mensal'].hist(bins=30)\n",
    "plt.title('Histograma: Pagamento_Mensal')\n",
    "plt.xlabel('Valor Mensal (R$)')\n",
    "plt.ylabel('Frequência')\n",
    "plt.show()\n",
    "\n",
    "print(\"Resumo estatístico — Pagamento_Mensal:\")\n",
    "print(df['Pagamento_Mensal'].describe())"
   ]
  },
  {
   "cell_type": "code",
   "execution_count": 21,
   "metadata": {},
   "outputs": [
    {
     "data": {
      "text/plain": [
       "np.int64(0)"
      ]
     },
     "execution_count": 21,
     "metadata": {},
     "output_type": "execute_result"
    }
   ],
   "source": [
    "# Substituindo pela mediana\n",
    "# Justificativa: A mediana é mais robusta a outliers em distribuições assimétricas\n",
    "mediana = df['Pagamento_Mensal'].median()\n",
    "df['Pagamento_Mensal'] = df['Pagamento_Mensal'].fillna(mediana)\n",
    "df['Pagamento_Mensal'].isnull().sum()"
   ]
  },
  {
   "cell_type": "markdown",
   "metadata": {},
   "source": [
    "# 3 - Verifique se encontramos valores digitados incorretamente, ou com letras maiusculas ou minusculas, ou até mesmo mesmos valores porém escritos de forma dirente e corrija."
   ]
  },
  {
   "cell_type": "code",
   "execution_count": 22,
   "metadata": {},
   "outputs": [
    {
     "name": "stdout",
     "output_type": "stream",
     "text": [
      "Valores únicos ANTES da padronização:\n",
      "Genero: ['F', 'Female', 'M', 'Male', 'f']\n",
      "Casado: ['No', 'Yes']\n",
      "Dependents: ['No', 'Yes']\n",
      "PhoneService: ['No', 'Yes']\n",
      "Servico_Internet: ['DSL', 'Fiber optic', 'No', 'dsl']\n",
      "Servico_Seguranca: ['No', 'No internet service', 'Yes']\n",
      "Suporte_Tecnico: ['No', 'No internet service', 'Yes']\n",
      "StreamingTV: ['No', 'No internet service', 'Yes']\n",
      "Tipo_Contrato: ['Month-to-month', 'One year', 'Two year']\n",
      "PaymentMethod: ['Bank transfer (automatic)', 'Credit card (automatic)', 'Electronic check', 'Mailed check']\n",
      "Churn: ['No', 'Yes']\n"
     ]
    }
   ],
   "source": [
    "# Verificar valores únicos em todas as colunas categóricas\n",
    "colunas_categoricas = ['Genero', 'Casado', 'Dependents', 'PhoneService', 'Servico_Internet',\n",
    "                      'Servico_Seguranca', 'Suporte_Tecnico', 'StreamingTV', \n",
    "                      'Tipo_Contrato', 'PaymentMethod', 'Churn']\n",
    "\n",
    "print(\"Valores únicos ANTES da padronização:\")\n",
    "for col in colunas_categoricas:\n",
    "    if col in df.columns:\n",
    "        valores_unicos = sorted(df[col].unique())\n",
    "        print(f\"{col}: {valores_unicos}\")"
   ]
  },
  {
   "cell_type": "code",
   "execution_count": 23,
   "metadata": {},
   "outputs": [
    {
     "name": "stdout",
     "output_type": "stream",
     "text": [
      "Valores únicos após correção:\n",
      "Genero: ['Female', 'Male']\n",
      "Servico_Internet: ['DSL', 'Fiber optic', 'No']\n"
     ]
    }
   ],
   "source": [
    "# Corrigir valores inconsistentes\n",
    "df['Genero'] = df['Genero'].replace({'F': 'Female', 'f': 'Female', 'M': 'Male', 'm': 'Male'})\n",
    "df['Servico_Internet'] = df['Servico_Internet'].replace('dsl', 'DSL')\n",
    "\n",
    "print(\"Valores únicos após correção:\")\n",
    "print(f\"Genero: {sorted(df['Genero'].unique())}\")\n",
    "print(f\"Servico_Internet: {sorted(df['Servico_Internet'].unique())}\")"
   ]
  },
  {
   "cell_type": "markdown",
   "metadata": {},
   "source": [
    "# Transformação da variável target (Churn) para formato numérico"
   ]
  },
  {
   "cell_type": "code",
   "execution_count": 24,
   "metadata": {},
   "outputs": [
    {
     "name": "stdout",
     "output_type": "stream",
     "text": [
      "Distribuição original da variável Churn:\n",
      "Churn\n",
      "No     1841\n",
      "Yes     647\n",
      "Name: count, dtype: int64\n",
      "\n",
      "Distribuição após conversão (1=Yes, 0=No):\n",
      "Churn\n",
      "0    1841\n",
      "1     647\n",
      "Name: count, dtype: int64\n",
      "\n",
      "Tipo de dados da coluna Churn: int64\n"
     ]
    }
   ],
   "source": [
    "# Converter Churn para formato binário (Yes=1, No=0)\n",
    "print(\"Distribuição original da variável Churn:\")\n",
    "print(df['Churn'].value_counts())\n",
    "\n",
    "# Conversão para numérico\n",
    "df['Churn'] = df['Churn'].map({'Yes': 1, 'No': 0})\n",
    "\n",
    "print(\"\\nDistribuição após conversão (1=Yes, 0=No):\")\n",
    "print(df['Churn'].value_counts())\n",
    "print(f\"\\nTipo de dados da coluna Churn: {df['Churn'].dtype}\")"
   ]
  },
  {
   "cell_type": "markdown",
   "metadata": {},
   "source": [
    "# [EXTRA] 4 - Caso deseje, para manter um padrão na sua base, renomeie as colunas"
   ]
  },
  {
   "cell_type": "code",
   "execution_count": 25,
   "metadata": {},
   "outputs": [
    {
     "name": "stdout",
     "output_type": "stream",
     "text": [
      "Nomes das colunas ANTES da padronização:\n",
      "['customerID', 'Genero', 'Idoso', 'Casado', 'Dependents', 'Tempo_como_Cliente', 'PhoneService', 'Servico_Internet', 'Servico_Seguranca', 'Suporte_Tecnico', 'StreamingTV', 'Tipo_Contrato', 'PaymentMethod', 'Pagamento_Mensal', 'Total_Pago', 'Churn']\n",
      "\n",
      "Nomes das colunas APÓS padronização:\n",
      "['customer_id', 'gender', 'senior_citizen', 'married', 'dependents', 'tenure_months', 'phone_service', 'internet_service', 'security_service', 'tech_support', 'streaming_tv', 'contract_type', 'payment_method', 'monthly_payment', 'total_paid', 'churn']\n"
     ]
    }
   ],
   "source": [
    "# Verificar nomes atuais das colunas\n",
    "print(\"Nomes das colunas ANTES da padronização:\")\n",
    "print(list(df.columns))\n",
    "\n",
    "# Dicionário para renomear colunas (removendo acentos e padronizando)\n",
    "novos_nomes = {\n",
    "    'customerID': 'customer_id',\n",
    "    'Genero': 'gender',\n",
    "    'Idoso': 'senior_citizen',\n",
    "    'Casado': 'married',\n",
    "    'Dependents': 'dependents',\n",
    "    'Tempo_como_Cliente': 'tenure_months',\n",
    "    'PhoneService': 'phone_service',\n",
    "    'Servico_Internet': 'internet_service',\n",
    "    'Servico_Seguranca': 'security_service',\n",
    "    'Suporte_Tecnico': 'tech_support',\n",
    "    'StreamingTV': 'streaming_tv',\n",
    "    'Tipo_Contrato': 'contract_type',\n",
    "    'PaymentMethod': 'payment_method',\n",
    "    'Pagamento_Mensal': 'monthly_payment',\n",
    "    'Total_Pago': 'total_paid',\n",
    "    'Churn': 'churn'\n",
    "}\n",
    "\n",
    "# Aplicar renomeação\n",
    "df = df.rename(columns=novos_nomes)\n",
    "\n",
    "print(\"\\nNomes das colunas APÓS padronização:\")\n",
    "print(list(df.columns))"
   ]
  },
  {
   "cell_type": "markdown",
   "metadata": {},
   "source": [
    "# Verificação final do dataset"
   ]
  },
  {
   "cell_type": "code",
   "execution_count": 26,
   "metadata": {},
   "outputs": [
    {
     "name": "stdout",
     "output_type": "stream",
     "text": [
      "=== RESUMO FINAL DO DATASET ===\n",
      "Dimensões: (2488, 16)\n",
      "Total de dados faltantes: 0\n",
      "\n",
      "Tipos de dados finais:\n",
      "customer_id          object\n",
      "gender               object\n",
      "senior_citizen        int64\n",
      "married              object\n",
      "dependents           object\n",
      "tenure_months         int64\n",
      "phone_service        object\n",
      "internet_service     object\n",
      "security_service     object\n",
      "tech_support         object\n",
      "streaming_tv         object\n",
      "contract_type        object\n",
      "payment_method       object\n",
      "monthly_payment     float64\n",
      "total_paid          float64\n",
      "churn                 int64\n",
      "dtype: object\n",
      "\n",
      "=== PRIMEIRAS 5 LINHAS DO DATASET LIMPO ===\n",
      "   customer_id  gender  senior_citizen married dependents  tenure_months  \\\n",
      "0   7590-VHVEG  Female               0     Yes         No              1   \n",
      "1   5575-GNVDE    Male               0      No         No             34   \n",
      "2   3668-QPYBK    Male               0      No         No              2   \n",
      "3   7795-CFOCW    Male               0      No         No             45   \n",
      "16  8191-XWSZG  Female               0      No         No             52   \n",
      "\n",
      "   phone_service internet_service     security_service         tech_support  \\\n",
      "0             No              DSL                   No                   No   \n",
      "1            Yes              DSL                  Yes                   No   \n",
      "2            Yes              DSL                  Yes                   No   \n",
      "3             No              DSL                  Yes                  Yes   \n",
      "16           Yes               No  No internet service  No internet service   \n",
      "\n",
      "           streaming_tv   contract_type             payment_method  \\\n",
      "0                    No  Month-to-month           Electronic check   \n",
      "1                    No        One year               Mailed check   \n",
      "2                    No  Month-to-month               Mailed check   \n",
      "3                    No        One year  Bank transfer (automatic)   \n",
      "16  No internet service        One year               Mailed check   \n",
      "\n",
      "    monthly_payment  total_paid  churn  \n",
      "0             29.85       29.85      0  \n",
      "1             56.95     1889.50      0  \n",
      "2             53.85      108.15      1  \n",
      "3             71.45     1840.75      0  \n",
      "16            71.45     1022.95      0  \n"
     ]
    }
   ],
   "source": [
    "# Resumo final do dataset\n",
    "print(\"=== RESUMO FINAL DO DATASET ===\")\n",
    "print(f\"Dimensões: {df.shape}\")\n",
    "print(f\"Total de dados faltantes: {df.isnull().sum().sum()}\")\n",
    "print(f\"\\nTipos de dados finais:\")\n",
    "print(df.dtypes)\n",
    "\n",
    "print(f\"\\n=== PRIMEIRAS 5 LINHAS DO DATASET LIMPO ===\")\n",
    "print(df.head())"
   ]
  },
  {
   "cell_type": "code",
   "execution_count": 27,
   "metadata": {},
   "outputs": [
    {
     "name": "stdout",
     "output_type": "stream",
     "text": [
      "=== BALANCEAMENTO DA VARIÁVEL TARGET (CHURN) ===\n",
      "Contagem absoluta:\n",
      "Não cancelaram (0): 1841\n",
      "Cancelaram (1): 647\n",
      "\n",
      "Percentual:\n",
      "Não cancelaram (0): 74.0%\n",
      "Cancelaram (1): 26.0%\n"
     ]
    }
   ],
   "source": [
    "# Verificação de balanceamento da variável target\n",
    "print(\"=== BALANCEAMENTO DA VARIÁVEL TARGET (CHURN) ===\")\n",
    "churn_counts = df['churn'].value_counts()\n",
    "churn_percentual = df['churn'].value_counts(normalize=True) * 100\n",
    "\n",
    "print(\"Contagem absoluta:\")\n",
    "print(f\"Não cancelaram (0): {churn_counts[0]}\")\n",
    "print(f\"Cancelaram (1): {churn_counts[1]}\")\n",
    "\n",
    "print(\"\\nPercentual:\")\n",
    "print(f\"Não cancelaram (0): {churn_percentual[0]:.1f}%\")\n",
    "print(f\"Cancelaram (1): {churn_percentual[1]:.1f}%\")"
   ]
  },
  {
   "cell_type": "code",
   "execution_count": null,
   "metadata": {},
   "outputs": [],
   "source": []
  }
 ],
 "metadata": {
  "kernelspec": {
   "display_name": "Python 3 (ipykernel)",
   "language": "python",
   "name": "python3"
  },
  "language_info": {
   "codemirror_mode": {
    "name": "ipython",
    "version": 3
   },
   "file_extension": ".py",
   "mimetype": "text/x-python",
   "name": "python",
   "nbconvert_exporter": "python",
   "pygments_lexer": "ipython3",
   "version": "3.12.9"
  }
 },
 "nbformat": 4,
 "nbformat_minor": 4
}
